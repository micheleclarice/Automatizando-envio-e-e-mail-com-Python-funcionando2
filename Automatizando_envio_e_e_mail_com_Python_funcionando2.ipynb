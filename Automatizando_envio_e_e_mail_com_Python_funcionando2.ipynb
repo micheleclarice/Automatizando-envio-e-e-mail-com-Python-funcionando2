{
  "cells": [
    {
      "cell_type": "markdown",
      "metadata": {
        "id": "view-in-github",
        "colab_type": "text"
      },
      "source": [
        "<a href=\"https://colab.research.google.com/github/micheleclarice/Automatizando-envio-e-e-mail-com-Python-funcionando2/blob/main/Automatizando_envio_e_e_mail_com_Python_funcionando2.ipynb\" target=\"_parent\"><img src=\"https://colab.research.google.com/assets/colab-badge.svg\" alt=\"Open In Colab\"/></a>"
      ]
    },
    {
      "cell_type": "code",
      "execution_count": null,
      "id": "b5c831a8",
      "metadata": {
        "id": "b5c831a8",
        "outputId": "a5d47502-6a8d-4831-ce5c-ec5a24b14100"
      },
      "outputs": [
        {
          "name": "stdout",
          "output_type": "stream",
          "text": [
            "Requirement already satisfied: pyautogui in c:\\users\\miche\\anaconda3\\lib\\site-packages (0.9.53)\n",
            "Requirement already satisfied: PyTweening>=1.0.1 in c:\\users\\miche\\anaconda3\\lib\\site-packages (from pyautogui) (1.0.4)\n",
            "Requirement already satisfied: pygetwindow>=0.0.5 in c:\\users\\miche\\anaconda3\\lib\\site-packages (from pyautogui) (0.0.9)\n",
            "Requirement already satisfied: pyscreeze>=0.1.21 in c:\\users\\miche\\anaconda3\\lib\\site-packages (from pyautogui) (0.1.28)\n",
            "Requirement already satisfied: mouseinfo in c:\\users\\miche\\anaconda3\\lib\\site-packages (from pyautogui) (0.1.3)\n",
            "Requirement already satisfied: pymsgbox in c:\\users\\miche\\anaconda3\\lib\\site-packages (from pyautogui) (1.0.9)\n",
            "Requirement already satisfied: pyrect in c:\\users\\miche\\anaconda3\\lib\\site-packages (from pygetwindow>=0.0.5->pyautogui) (0.1.4)\n",
            "Requirement already satisfied: pyperclip in c:\\users\\miche\\anaconda3\\lib\\site-packages (from mouseinfo->pyautogui) (1.8.2)\n",
            "Requirement already satisfied: pyperclip in c:\\users\\miche\\anaconda3\\lib\\site-packages (1.8.2)\n"
          ]
        }
      ],
      "source": [
        "!pip install pyautogui\n",
        "!pip install pyperclip"
      ]
    },
    {
      "cell_type": "code",
      "execution_count": null,
      "id": "c8f1afd1",
      "metadata": {
        "id": "c8f1afd1"
      },
      "outputs": [],
      "source": [
        ""
      ]
    },
    {
      "cell_type": "code",
      "execution_count": null,
      "id": "97978c9f",
      "metadata": {
        "id": "97978c9f"
      },
      "outputs": [],
      "source": [
        "import pyautogui"
      ]
    },
    {
      "cell_type": "code",
      "execution_count": null,
      "id": "47e6e3a0",
      "metadata": {
        "id": "47e6e3a0"
      },
      "outputs": [],
      "source": [
        "import pyperclip\n",
        "import time\n"
      ]
    },
    {
      "cell_type": "code",
      "execution_count": null,
      "id": "1d82ee05",
      "metadata": {
        "id": "1d82ee05"
      },
      "outputs": [],
      "source": [
        "pyautogui.PAUSE = 1"
      ]
    },
    {
      "cell_type": "code",
      "execution_count": null,
      "id": "012c29f3",
      "metadata": {
        "id": "012c29f3"
      },
      "outputs": [],
      "source": [
        "import pyautogui\n",
        "import pyperclip\n",
        "import time\n",
        "\n",
        "pyautogui.PAUSE = 1\n",
        "\n",
        "# Passo 1: Entrar no sistema (no nosso caso, entrar no link)\n",
        "pyautogui.hotkey(\"ctrl\", \"t\")\n",
        "pyperclip.copy(\"https://drive.google.com/drive/folders/149xknr9JvrlEnhNWO49zPcw0PW5icxga\")\n",
        "pyautogui.hotkey(\"ctrl\", \"v\")\n",
        "pyautogui.press(\"enter\")\n",
        "\n",
        "time.sleep(3)\n",
        "\n",
        "# Passo 2: Navegar até o local do relatório (entrar na pasta Exportar)\n",
        "pyautogui.click(x=438, y=382,clicks=2)\n",
        "time.sleep(2)\n",
        "\n",
        "# Passo 3: Fazer o download do relatório\n",
        "pyautogui.click(x=427, y=575)\n",
        "pyautogui.click(x=1667, y=248)\n",
        "pyautogui.click(x=1407, y=729)\n",
        "time.sleep(5)"
      ]
    },
    {
      "cell_type": "code",
      "execution_count": null,
      "id": "ad57ab12",
      "metadata": {
        "id": "ad57ab12"
      },
      "outputs": [],
      "source": [
        "##Vamos agora ler o arquivo baixado para pegar os indicadores\n",
        "#Faturamento\n",
        "#Quantidade de Produtos"
      ]
    },
    {
      "cell_type": "code",
      "execution_count": null,
      "id": "d35712fd",
      "metadata": {
        "id": "d35712fd"
      },
      "outputs": [],
      "source": [
        "import pandas as pd"
      ]
    },
    {
      "cell_type": "code",
      "execution_count": null,
      "id": "565f032f",
      "metadata": {
        "id": "565f032f"
      },
      "outputs": [],
      "source": [
        "# Passo 4: Calcular os indicadores"
      ]
    },
    {
      "cell_type": "code",
      "execution_count": null,
      "id": "e7bcd037",
      "metadata": {
        "id": "e7bcd037"
      },
      "outputs": [],
      "source": [
        "tabela = pd.read_excel(r\"C:\\Users\\miche\\Downloads\\Vendas - Dez.xlsx\")"
      ]
    },
    {
      "cell_type": "code",
      "execution_count": null,
      "id": "2e9b81cb",
      "metadata": {
        "id": "2e9b81cb",
        "outputId": "9ce8c24a-21ae-4596-a0d6-0d30eb9999b7"
      },
      "outputs": [
        {
          "data": {
            "text/html": [
              "<div>\n",
              "<style scoped>\n",
              "    .dataframe tbody tr th:only-of-type {\n",
              "        vertical-align: middle;\n",
              "    }\n",
              "\n",
              "    .dataframe tbody tr th {\n",
              "        vertical-align: top;\n",
              "    }\n",
              "\n",
              "    .dataframe thead th {\n",
              "        text-align: right;\n",
              "    }\n",
              "</style>\n",
              "<table border=\"1\" class=\"dataframe\">\n",
              "  <thead>\n",
              "    <tr style=\"text-align: right;\">\n",
              "      <th></th>\n",
              "      <th>Código Venda</th>\n",
              "      <th>Data</th>\n",
              "      <th>ID Loja</th>\n",
              "      <th>Produto</th>\n",
              "      <th>Quantidade</th>\n",
              "      <th>Valor Unitário</th>\n",
              "      <th>Valor Final</th>\n",
              "    </tr>\n",
              "  </thead>\n",
              "  <tbody>\n",
              "    <tr>\n",
              "      <th>0</th>\n",
              "      <td>65014</td>\n",
              "      <td>2019-12-01</td>\n",
              "      <td>Shopping Morumbi</td>\n",
              "      <td>Sunga Listrado</td>\n",
              "      <td>5</td>\n",
              "      <td>114</td>\n",
              "      <td>570</td>\n",
              "    </tr>\n",
              "    <tr>\n",
              "      <th>1</th>\n",
              "      <td>65014</td>\n",
              "      <td>2019-12-01</td>\n",
              "      <td>Shopping Morumbi</td>\n",
              "      <td>Casaco Listrado</td>\n",
              "      <td>1</td>\n",
              "      <td>269</td>\n",
              "      <td>269</td>\n",
              "    </tr>\n",
              "    <tr>\n",
              "      <th>2</th>\n",
              "      <td>65016</td>\n",
              "      <td>2019-12-01</td>\n",
              "      <td>Iguatemi Campinas</td>\n",
              "      <td>Sapato Listrado</td>\n",
              "      <td>2</td>\n",
              "      <td>363</td>\n",
              "      <td>726</td>\n",
              "    </tr>\n",
              "    <tr>\n",
              "      <th>3</th>\n",
              "      <td>65016</td>\n",
              "      <td>2019-12-01</td>\n",
              "      <td>Iguatemi Campinas</td>\n",
              "      <td>Casaco</td>\n",
              "      <td>1</td>\n",
              "      <td>250</td>\n",
              "      <td>250</td>\n",
              "    </tr>\n",
              "    <tr>\n",
              "      <th>4</th>\n",
              "      <td>65017</td>\n",
              "      <td>2019-12-01</td>\n",
              "      <td>Shopping SP Market</td>\n",
              "      <td>Gorro Liso</td>\n",
              "      <td>3</td>\n",
              "      <td>92</td>\n",
              "      <td>276</td>\n",
              "    </tr>\n",
              "    <tr>\n",
              "      <th>...</th>\n",
              "      <td>...</td>\n",
              "      <td>...</td>\n",
              "      <td>...</td>\n",
              "      <td>...</td>\n",
              "      <td>...</td>\n",
              "      <td>...</td>\n",
              "      <td>...</td>\n",
              "    </tr>\n",
              "    <tr>\n",
              "      <th>7084</th>\n",
              "      <td>69996</td>\n",
              "      <td>2019-12-26</td>\n",
              "      <td>Center Shopping Uberlândia</td>\n",
              "      <td>Short Listrado</td>\n",
              "      <td>2</td>\n",
              "      <td>102</td>\n",
              "      <td>204</td>\n",
              "    </tr>\n",
              "    <tr>\n",
              "      <th>7085</th>\n",
              "      <td>69996</td>\n",
              "      <td>2019-12-26</td>\n",
              "      <td>Center Shopping Uberlândia</td>\n",
              "      <td>Mochila</td>\n",
              "      <td>4</td>\n",
              "      <td>270</td>\n",
              "      <td>1080</td>\n",
              "    </tr>\n",
              "    <tr>\n",
              "      <th>7086</th>\n",
              "      <td>69996</td>\n",
              "      <td>2019-12-26</td>\n",
              "      <td>Center Shopping Uberlândia</td>\n",
              "      <td>Pulseira Estampa</td>\n",
              "      <td>1</td>\n",
              "      <td>87</td>\n",
              "      <td>87</td>\n",
              "    </tr>\n",
              "    <tr>\n",
              "      <th>7087</th>\n",
              "      <td>69997</td>\n",
              "      <td>2019-12-26</td>\n",
              "      <td>Ribeirão Shopping</td>\n",
              "      <td>Camisa Listrado</td>\n",
              "      <td>1</td>\n",
              "      <td>108</td>\n",
              "      <td>108</td>\n",
              "    </tr>\n",
              "    <tr>\n",
              "      <th>7088</th>\n",
              "      <td>69997</td>\n",
              "      <td>2019-12-26</td>\n",
              "      <td>Ribeirão Shopping</td>\n",
              "      <td>Short Linho</td>\n",
              "      <td>2</td>\n",
              "      <td>133</td>\n",
              "      <td>266</td>\n",
              "    </tr>\n",
              "  </tbody>\n",
              "</table>\n",
              "<p>7089 rows × 7 columns</p>\n",
              "</div>"
            ],
            "text/plain": [
              "      Código Venda       Data                     ID Loja           Produto  \\\n",
              "0            65014 2019-12-01            Shopping Morumbi    Sunga Listrado   \n",
              "1            65014 2019-12-01            Shopping Morumbi   Casaco Listrado   \n",
              "2            65016 2019-12-01           Iguatemi Campinas   Sapato Listrado   \n",
              "3            65016 2019-12-01           Iguatemi Campinas            Casaco   \n",
              "4            65017 2019-12-01          Shopping SP Market        Gorro Liso   \n",
              "...            ...        ...                         ...               ...   \n",
              "7084         69996 2019-12-26  Center Shopping Uberlândia    Short Listrado   \n",
              "7085         69996 2019-12-26  Center Shopping Uberlândia           Mochila   \n",
              "7086         69996 2019-12-26  Center Shopping Uberlândia  Pulseira Estampa   \n",
              "7087         69997 2019-12-26           Ribeirão Shopping   Camisa Listrado   \n",
              "7088         69997 2019-12-26           Ribeirão Shopping       Short Linho   \n",
              "\n",
              "      Quantidade  Valor Unitário  Valor Final  \n",
              "0              5             114          570  \n",
              "1              1             269          269  \n",
              "2              2             363          726  \n",
              "3              1             250          250  \n",
              "4              3              92          276  \n",
              "...          ...             ...          ...  \n",
              "7084           2             102          204  \n",
              "7085           4             270         1080  \n",
              "7086           1              87           87  \n",
              "7087           1             108          108  \n",
              "7088           2             133          266  \n",
              "\n",
              "[7089 rows x 7 columns]"
            ]
          },
          "metadata": {},
          "output_type": "display_data"
        }
      ],
      "source": [
        "display(tabela)\n",
        "faturamento = tabela[\"Valor Final\"].sum()\n",
        "quantidade = tabela[\"Quantidade\"].sum()"
      ]
    },
    {
      "cell_type": "code",
      "execution_count": null,
      "id": "25222498",
      "metadata": {
        "id": "25222498"
      },
      "outputs": [],
      "source": [
        "#Vamos agora enviar um e-mail pelo Hotmail"
      ]
    },
    {
      "cell_type": "code",
      "execution_count": null,
      "id": "4f84e515",
      "metadata": {
        "id": "4f84e515"
      },
      "outputs": [],
      "source": [
        "# Passo 5: Entrar no email\n",
        "pyautogui.hotkey(\"ctrl\", \"t\")\n",
        "pyperclip.copy(\"https://mail.google.com/mail/u/0/#inbox\")\n",
        "pyautogui.hotkey(\"ctrl\", \"v\")\n",
        "pyautogui.press(\"enter\")\n",
        "time.sleep(5)\n",
        "\n",
        "# Passo 6: Enviar por e-mail o resultado\n",
        "pyautogui.click(x=97, y=256)\n",
        "time.sleep(7)\n",
        "\n",
        "pyautogui.write(\"micheleclarice@hotmail.com\")\n",
        "pyautogui.press(\"tab\") # seleciona o email\n",
        "pyautogui.press(\"tab\") # pula pro campo de assunto\n",
        "pyperclip.copy(\"Relatório de Vendas\")\n",
        "pyautogui.hotkey(\"ctrl\", \"v\") # escrever o assunto\n",
        "pyautogui.press(\"tab\") #pular pro corpo do email\n",
        "\n",
        "texto = f\"\"\"\n",
        "Prezados, bom dia\n",
        "\n",
        "O faturamento de ontem foi de: R${faturamento:,.2f}\n",
        "A quantidade de produtos foi de: {quantidade:,}\n",
        "\n",
        "Abs\n",
        "Michele Santana\"\"\"\n",
        "\n",
        "pyperclip.copy(texto)\n",
        "pyautogui.hotkey(\"ctrl\", \"v\")\n",
        "time.sleep(2)\n",
        "pyautogui.hotkey(\"ctrl\", \"enter\")"
      ]
    },
    {
      "cell_type": "code",
      "execution_count": null,
      "id": "5193a517",
      "metadata": {
        "id": "5193a517"
      },
      "outputs": [],
      "source": [
        "# clicar no botão enviar\n",
        "\n",
        "# apertar Ctrl Enter\n",
        "pyautogui.hotkey(\"ctrl\", \"enter\")"
      ]
    },
    {
      "cell_type": "code",
      "execution_count": null,
      "id": "19b8cb0a",
      "metadata": {
        "id": "19b8cb0a"
      },
      "outputs": [],
      "source": [
        ""
      ]
    },
    {
      "cell_type": "code",
      "execution_count": null,
      "id": "285b9cff",
      "metadata": {
        "id": "285b9cff"
      },
      "outputs": [],
      "source": [
        "##Use esse código para descobrir qual a posição de um item que queira clicar\n",
        "##Lembre-se: a posição na sua tela é diferente da posição na minha tela"
      ]
    },
    {
      "cell_type": "code",
      "execution_count": null,
      "id": "ecfab8ff",
      "metadata": {
        "id": "ecfab8ff",
        "outputId": "7eef56dd-90a4-4e1a-eb64-5e58fa304271"
      },
      "outputs": [
        {
          "data": {
            "text/plain": [
              "Point(x=97, y=256)"
            ]
          },
          "execution_count": 71,
          "metadata": {},
          "output_type": "execute_result"
        }
      ],
      "source": [
        "time.sleep(5)\n",
        "pyautogui.position()"
      ]
    },
    {
      "cell_type": "code",
      "execution_count": null,
      "id": "3f43d16a",
      "metadata": {
        "id": "3f43d16a"
      },
      "outputs": [],
      "source": [
        ""
      ]
    },
    {
      "cell_type": "code",
      "execution_count": null,
      "id": "2822c53f",
      "metadata": {
        "id": "2822c53f"
      },
      "outputs": [],
      "source": [
        ""
      ]
    }
  ],
  "metadata": {
    "kernelspec": {
      "display_name": "Python 3 (ipykernel)",
      "language": "python",
      "name": "python3"
    },
    "language_info": {
      "codemirror_mode": {
        "name": "ipython",
        "version": 3
      },
      "file_extension": ".py",
      "mimetype": "text/x-python",
      "name": "python",
      "nbconvert_exporter": "python",
      "pygments_lexer": "ipython3",
      "version": "3.9.7"
    },
    "colab": {
      "name": "Automatizando envio e e-mail com Python funcionando2.ipynb",
      "provenance": [],
      "include_colab_link": true
    }
  },
  "nbformat": 4,
  "nbformat_minor": 5
}